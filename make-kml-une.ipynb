{
 "cells": [
  {
   "cell_type": "code",
   "execution_count": 11,
   "metadata": {},
   "outputs": [
    {
     "name": "stdout",
     "output_type": "stream",
     "text": [
      "Q:\\2020-01-23-UNE\n"
     ]
    }
   ],
   "source": [
    "%cd Q:\\2020-01-23-UNE\n",
    "\n",
    "import glob\n",
    "listing = glob.glob('Q:/2020-01-23-UNE/*1.jpg') # filter filename extension\n",
    "#files = [f for f in listing if ('164723'<f.split('_')[1]<'204813')]  # filter all in-water - 5MB - 20 seconds -unusable\n",
    "files = [f for f in listing if ('165400'<f.split('_')[1]<'172000')]  # filter 1st pass - 1MB - 2 seconds - works"
   ]
  },
  {
   "cell_type": "code",
   "execution_count": 9,
   "metadata": {},
   "outputs": [
    {
     "data": {
      "text/plain": [
       "'take Seq: 2253,Lat:  43.469366,Lon: -70.349676,Date: 2020/1/23,Time: 20:48:11.29,Alt: 13.37,Dep: 0.08,Pit: -7.92,Roll: -6.65,Head: 216.35'"
      ]
     },
     "execution_count": 9,
     "metadata": {},
     "output_type": "execute_result"
    }
   ],
   "source": [
    "def jpg_head_comment(filename):\n",
    "    with open(filename, \"rb\") as f:\n",
    "        head = f.read(200)\n",
    "        if (head[0:4] == b'\\xff\\xd8\\xff\\xfe'):\n",
    "            comment_length = int.from_bytes(head[4:6], byteorder = 'big')\n",
    "            return(head[6:(4+comment_length)].decode(\"utf-8\"))\n",
    "    \n",
    "comment = jpg_head_comment(files[0])\n",
    "comment\n"
   ]
  },
  {
   "cell_type": "code",
   "execution_count": 12,
   "metadata": {},
   "outputs": [],
   "source": [
    "outf = open(\"generate.kml\",\"w\")\n",
    "\n",
    "outf.write('''<?xml version=\"1.0\" encoding=\"utf-8\"?>  \n",
    "<kml>  \n",
    "  <Document>\n",
    "\n",
    "   <name>Kelpcam 2020-1-23 UNE Saco, ME</name>\n",
    "<open>1</open> \n",
    "\n",
    "  <Style id=\"noDirectionsBalloonStyle\">\n",
    "  \n",
    "  <IconStyle> <Icon> <href> http://maps.google.com/mapfiles/kml/shapes/camera.png </href> </Icon></IconStyle>\n",
    "    <BalloonStyle>\n",
    "      <text>$[description]</text>\n",
    "    </BalloonStyle>\n",
    "    <LabelStyle>\n",
    "      <color>0fffffff</color> \n",
    "    </LabelStyle>\n",
    "  </Style> \n",
    "\n",
    "  ''')\n",
    "\n",
    "for long_name in files:\n",
    "    n = long_name.split('\\\\')[-1]\n",
    "    comment = jpg_head_comment(n)\n",
    "    md = {}\n",
    "    for kv in comment[5:].split(','):\n",
    "        k,v = kv.split(\": \")\n",
    "        md[k] = v\n",
    "    lat = md['Lat']\n",
    "    long = md['Lon']\n",
    "    name_base = n.split('.')[0][:-2]\n",
    "    outf.write(\"<Placemark>\\n\")\n",
    "    outf.write(\"<name>{0}</name>\\n\".format(name_base))\n",
    "    outf.write(\"<Snippet>{0}</Snippet>\".format(comment))\n",
    "    #outf.write(str(lat))\n",
    "    #outf.write(str(long))\n",
    "    outf.write(''' \n",
    "    <description><![CDATA[\n",
    "    <h1>Kelpcam date_time {0}</h1>\n",
    "    <table style=\"text-align:left;width:100%;border-collapse:collapse;padding:3px 3px 3px 3px\"><tr>\n",
    "    <td><img src='{0}_5.jpg' width='400' /></td>\n",
    "    <td><img src='{0}_1.jpg' width='400' /></td>\n",
    "    <td><img src='{0}_2.jpg' width='400' /></td>\n",
    "    </tr><tr style=\"text-align:center;font-weight:bold;background:#9CBCE2\">\n",
    "    <td><img src='{0}_4.jpg' width='400' /></td>\n",
    "    <td><img src='{0}_6.jpg' width='400' /></td>\n",
    "    <td><img src='{0}_3.jpg' width='400' /></td>\n",
    "    </tr></table>\n",
    "    {1}\n",
    "    ]]></description>\n",
    "    <styleUrl>#noDirectionsBalloonStyle</styleUrl> \n",
    "    <Point>'''.format(name_base,comment))\n",
    "    outf.write(\"<coordinates>{0},{1}</coordinates>\".format(long,lat))\n",
    "    outf.write(''' \n",
    "    </Point>  \n",
    "    </Placemark>  ''')\n",
    "    outf.write('\\n\\n\\n')\n",
    "outf.write(''' \n",
    "</Document>  \n",
    "</kml> \n",
    "''')\n",
    "outf.close()\n",
    "    "
   ]
  },
  {
   "cell_type": "code",
   "execution_count": 55,
   "metadata": {},
   "outputs": [
    {
     "data": {
      "text/plain": [
       "'200123_171959_1.jpg'"
      ]
     },
     "execution_count": 55,
     "metadata": {},
     "output_type": "execute_result"
    }
   ],
   "source": [
    "files[0].split('\\\\')[-1]\n",
    "    "
   ]
  },
  {
   "cell_type": "code",
   "execution_count": 34,
   "metadata": {},
   "outputs": [
    {
     "ename": "ValueError",
     "evalue": "could not convert string to float: 'Da'",
     "output_type": "error",
     "traceback": [
      "\u001b[1;31m---------------------------------------------------------------------------\u001b[0m",
      "\u001b[1;31mValueError\u001b[0m                                Traceback (most recent call last)",
      "\u001b[1;32m<ipython-input-34-af7339434bcb>\u001b[0m in \u001b[0;36m<module>\u001b[1;34m\u001b[0m\n\u001b[1;32m----> 1\u001b[1;33m \u001b[0mlat\u001b[0m \u001b[1;33m=\u001b[0m \u001b[0mfloat\u001b[0m\u001b[1;33m(\u001b[0m\u001b[0mcomment\u001b[0m\u001b[1;33m.\u001b[0m\u001b[0msplit\u001b[0m\u001b[1;33m(\u001b[0m\u001b[1;34m','\u001b[0m\u001b[1;33m)\u001b[0m\u001b[1;33m[\u001b[0m\u001b[1;36m3\u001b[0m\u001b[1;33m]\u001b[0m\u001b[1;33m[\u001b[0m\u001b[1;36m0\u001b[0m\u001b[1;33m:\u001b[0m\u001b[1;36m2\u001b[0m\u001b[1;33m]\u001b[0m\u001b[1;33m)\u001b[0m \u001b[1;33m+\u001b[0m \u001b[1;33m(\u001b[0m\u001b[0mfloat\u001b[0m\u001b[1;33m(\u001b[0m\u001b[0mcomment\u001b[0m\u001b[1;33m.\u001b[0m\u001b[0msplit\u001b[0m\u001b[1;33m(\u001b[0m\u001b[1;34m','\u001b[0m\u001b[1;33m)\u001b[0m\u001b[1;33m[\u001b[0m\u001b[1;36m3\u001b[0m\u001b[1;33m]\u001b[0m\u001b[1;33m[\u001b[0m\u001b[1;36m2\u001b[0m\u001b[1;33m:\u001b[0m\u001b[1;33m]\u001b[0m\u001b[1;33m)\u001b[0m\u001b[1;33m/\u001b[0m\u001b[1;36m60\u001b[0m\u001b[1;33m)\u001b[0m\u001b[1;33m\u001b[0m\u001b[1;33m\u001b[0m\u001b[0m\n\u001b[0m\u001b[0;32m      2\u001b[0m \u001b[0mlong\u001b[0m \u001b[1;33m=\u001b[0m \u001b[1;33m-\u001b[0m\u001b[1;36m1.0\u001b[0m \u001b[1;33m*\u001b[0m \u001b[1;33m(\u001b[0m\u001b[0mfloat\u001b[0m\u001b[1;33m(\u001b[0m\u001b[0mcomment\u001b[0m\u001b[1;33m.\u001b[0m\u001b[0msplit\u001b[0m\u001b[1;33m(\u001b[0m\u001b[1;34m','\u001b[0m\u001b[1;33m)\u001b[0m\u001b[1;33m[\u001b[0m\u001b[1;36m5\u001b[0m\u001b[1;33m]\u001b[0m\u001b[1;33m[\u001b[0m\u001b[1;36m0\u001b[0m\u001b[1;33m:\u001b[0m\u001b[1;36m3\u001b[0m\u001b[1;33m]\u001b[0m\u001b[1;33m)\u001b[0m \u001b[1;33m+\u001b[0m  \u001b[1;33m(\u001b[0m\u001b[0mfloat\u001b[0m\u001b[1;33m(\u001b[0m\u001b[0mcomment\u001b[0m\u001b[1;33m.\u001b[0m\u001b[0msplit\u001b[0m\u001b[1;33m(\u001b[0m\u001b[1;34m','\u001b[0m\u001b[1;33m)\u001b[0m\u001b[1;33m[\u001b[0m\u001b[1;36m5\u001b[0m\u001b[1;33m]\u001b[0m\u001b[1;33m[\u001b[0m\u001b[1;36m3\u001b[0m\u001b[1;33m:\u001b[0m\u001b[1;33m]\u001b[0m\u001b[1;33m)\u001b[0m\u001b[1;33m/\u001b[0m\u001b[1;36m60\u001b[0m\u001b[1;33m)\u001b[0m\u001b[1;33m)\u001b[0m\u001b[1;33m\u001b[0m\u001b[1;33m\u001b[0m\u001b[0m\n",
      "\u001b[1;31mValueError\u001b[0m: could not convert string to float: 'Da'"
     ]
    }
   ],
   "source": [
    "lat = float(comment.split(',')[3][0:2]) + (float(comment.split(',')[3][2:])/60)\n",
    "long = -1.0 * (float(comment.split(',')[5][0:3]) +  (float(comment.split(',')[5][3:])/60))"
   ]
  },
  {
   "cell_type": "code",
   "execution_count": 36,
   "metadata": {},
   "outputs": [
    {
     "data": {
      "text/plain": [
       "['take Seq: 2253',\n",
       " 'Lat:  43.469366',\n",
       " 'Lon: -70.349676',\n",
       " 'Date: 2020/1/23',\n",
       " 'Time: 20:48:11.29',\n",
       " 'Alt: 13.37',\n",
       " 'Dep: 0.08',\n",
       " 'Pit: -7.92',\n",
       " 'Roll: -6.65',\n",
       " 'Head: 216.35']"
      ]
     },
     "execution_count": 36,
     "metadata": {},
     "output_type": "execute_result"
    }
   ],
   "source": [
    "comment.split(',')"
   ]
  },
  {
   "cell_type": "code",
   "execution_count": 48,
   "metadata": {},
   "outputs": [],
   "source": [
    "md = {}\n",
    "for kv in comment[5:].split(','):\n",
    "    k,v = kv.split(\": \")\n",
    "    md[k] = v"
   ]
  },
  {
   "cell_type": "code",
   "execution_count": 49,
   "metadata": {},
   "outputs": [
    {
     "data": {
      "text/plain": [
       "{'Seq': '2253',\n",
       " 'Lat': ' 43.469366',\n",
       " 'Lon': '-70.349676',\n",
       " 'Date': '2020/1/23',\n",
       " 'Time': '20:48:11.29',\n",
       " 'Alt': '13.37',\n",
       " 'Dep': '0.08',\n",
       " 'Pit': '-7.92',\n",
       " 'Roll': '-6.65',\n",
       " 'Head': '216.35'}"
      ]
     },
     "execution_count": 49,
     "metadata": {},
     "output_type": "execute_result"
    }
   ],
   "source": [
    "md"
   ]
  },
  {
   "cell_type": "code",
   "execution_count": null,
   "metadata": {},
   "outputs": [],
   "source": []
  }
 ],
 "metadata": {
  "kernelspec": {
   "display_name": "Python 3",
   "language": "python",
   "name": "python3"
  },
  "language_info": {
   "codemirror_mode": {
    "name": "ipython",
    "version": 3
   },
   "file_extension": ".py",
   "mimetype": "text/x-python",
   "name": "python",
   "nbconvert_exporter": "python",
   "pygments_lexer": "ipython3",
   "version": "3.7.4"
  }
 },
 "nbformat": 4,
 "nbformat_minor": 2
}
